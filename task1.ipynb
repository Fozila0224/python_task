{
 "cells": [
  {
   "cell_type": "code",
   "execution_count": 4,
   "id": "04001d66",
   "metadata": {},
   "outputs": [
    {
     "data": {
      "text/html": [
       "<div>\n",
       "<style scoped>\n",
       "    .dataframe tbody tr th:only-of-type {\n",
       "        vertical-align: middle;\n",
       "    }\n",
       "\n",
       "    .dataframe tbody tr th {\n",
       "        vertical-align: top;\n",
       "    }\n",
       "\n",
       "    .dataframe thead th {\n",
       "        text-align: right;\n",
       "    }\n",
       "</style>\n",
       "<table border=\"1\" class=\"dataframe\">\n",
       "  <thead>\n",
       "    <tr style=\"text-align: right;\">\n",
       "      <th></th>\n",
       "      <th>source_url</th>\n",
       "      <th>access_datetime</th>\n",
       "      <th>content</th>\n",
       "    </tr>\n",
       "  </thead>\n",
       "  <tbody>\n",
       "    <tr>\n",
       "      <th>0</th>\n",
       "      <td>https://kun.uz/</td>\n",
       "      <td>16/06/2023</td>\n",
       "      <td>Ozbekiston Respublikasi Prezidenti Shavkat Mi...</td>\n",
       "    </tr>\n",
       "    <tr>\n",
       "      <th>1</th>\n",
       "      <td>https://kun.uz/</td>\n",
       "      <td>25/05/2023</td>\n",
       "      <td>Qozogiston prezidenti Qosim-Jomart Toqayev ...</td>\n",
       "    </tr>\n",
       "    <tr>\n",
       "      <th>2</th>\n",
       "      <td>https://kun.uz/</td>\n",
       "      <td>19/06/2023</td>\n",
       "      <td>«Arsenal» mavsumning finish qismida sekinlashi...</td>\n",
       "    </tr>\n",
       "  </tbody>\n",
       "</table>\n",
       "</div>"
      ],
      "text/plain": [
       "        source_url access_datetime  \\\n",
       "0  https://kun.uz/      16/06/2023   \n",
       "1  https://kun.uz/      25/05/2023   \n",
       "2  https://kun.uz/      19/06/2023   \n",
       "\n",
       "                                             content  \n",
       "0  Ozbekiston Respublikasi Prezidenti Shavkat Mi...  \n",
       "1  Qozogiston prezidenti Qosim-Jomart Toqayev ...  \n",
       "2  «Arsenal» mavsumning finish qismida sekinlashi...  "
      ]
     },
     "execution_count": 4,
     "metadata": {},
     "output_type": "execute_result"
    }
   ],
   "source": [
    "import pandas as pd\n",
    "df = pd.read_csv('dataset.csv', encoding='unicode_escape')\n",
    "df.head()"
   ]
  },
  {
   "cell_type": "code",
   "execution_count": 6,
   "id": "fbd42117",
   "metadata": {},
   "outputs": [
    {
     "name": "stdout",
     "output_type": "stream",
     "text": [
      "['source_url', 'access_datetime', 'content']\n",
      "['https://kun.uz/', '16/06/2023', 'O‘zbekiston Respublikasi Prezidenti Shavkat Mirziyoyev «Aholining yengil avtotransport vositalariga bo‘lgan ehtiyojini qondirish bo‘yicha qo‘shimcha chora-tadbirlar to‘g‘risida»gi qarorni imzoladi. Bu haqda O‘zA xabar bermoqda.']\n",
      "['https://kun.uz/', '25/05/2023', 'Qozog‘iston prezidenti Qosim-Jo‘mart To‘qayev Yevrosiyo iqtisodiy ittifoqi forumida YeOII tuzilmasi ichida Rossiya va Belarus ittifoq davlati «fenomeni» mavjudligiga e’tibor qaratdi va hamkasblarni mamlakatlar integratsiyasining turli darajalarini muhokama qilishga taklif etdi.']\n",
      "['https://kun.uz/', '19/06/2023', '«Arsenal» mavsumning finish qismida sekinlashib, yakunda baribir chempionlikka erisha olmaganining asosiy sababi sifatida zaxira o‘rindig‘i keng emasligi keltiriladi. Oltin uchun poygada ustun kelgan «Manchester Siti»da ro‘yxat ancha kengroq — ha, Pep Gvardiola so‘nggi oylarda amalda bitta boshlang‘ich tarkibdan foydalandi, ammo asosiy tarkib futbolchilarini o‘yin sur’atini tushirmasdan zaxiraga olish imkoniyati unda ko‘proq edi.']\n"
     ]
    }
   ],
   "source": [
    "import csv\n",
    "filename=\"dataset.csv\"\n",
    "with open(filename,'r') as data:\n",
    "   for line in csv.reader(data):\n",
    "            print(line)         "
   ]
  },
  {
   "cell_type": "code",
   "execution_count": 8,
   "id": "8bf9d569",
   "metadata": {},
   "outputs": [
    {
     "name": "stdout",
     "output_type": "stream",
     "text": [
      "['content', 'O‘zbekiston', 'Respublikasi', 'Prezidenti', 'Shavkat', 'Mirziyoyev', '«Aholining', 'yengil', 'avtotransport', 'vositalariga', 'bo‘lgan', 'ehtiyojini', 'qondirish', 'bo‘yicha', 'qo‘shimcha', 'chora-tadbirlar', 'to‘g‘risida»gi', 'qarorni', 'imzoladi.', 'Bu', 'haqda', 'O‘zA', 'xabar', 'bermoqda.', 'Qozog‘iston', 'prezidenti', 'Qosim-Jo‘mart', 'To‘qayev', 'Yevrosiyo', 'iqtisodiy', 'ittifoqi', 'forumida', 'YeOII', 'tuzilmasi', 'ichida', 'Rossiya', 'va', 'Belarus', 'ittifoq', 'davlati', '«fenomeni»', 'mavjudligiga', 'e’tibor', 'qaratdi', 'va', 'hamkasblarni', 'mamlakatlar', 'integratsiyasining', 'turli', 'darajalarini', 'muhokama', 'qilishga', 'taklif', 'etdi.', '«Arsenal»', 'mavsumning', 'finish', 'qismida', 'sekinlashib,', 'yakunda', 'baribir', 'chempionlikka', 'erisha', 'olmaganining', 'asosiy', 'sababi', 'sifatida', 'zaxira', 'o‘rindig‘i', 'keng', 'emasligi', 'keltiriladi.', 'Oltin', 'uchun', 'poygada', 'ustun', 'kelgan', '«Manchester', 'Siti»da', 'ro‘yxat', 'ancha', 'kengroq', '—', 'ha,', 'Pep', 'Gvardiola', 'so‘nggi', 'oylarda', 'amalda', 'bitta', 'boshlang‘ich', 'tarkibdan', 'foydalandi,', 'ammo', 'asosiy', 'tarkib', 'futbolchilarini', 'o‘yin', 'sur’atini', 'tushirmasdan', 'zaxiraga', 'olish', 'imkoniyati', 'unda', 'ko‘proq', 'edi.']\n"
     ]
    }
   ],
   "source": [
    "import csv\n",
    "txtlist=[]\n",
    "filename=\"dataset.csv\"\n",
    "with open(filename,'r') as data:\n",
    "   for line in csv.reader(data):\n",
    "        txtlist+=line[2].split()\n",
    "print(txtlist)"
   ]
  },
  {
   "cell_type": "code",
   "execution_count": 9,
   "id": "fdb92e33",
   "metadata": {},
   "outputs": [
    {
     "name": "stdout",
     "output_type": "stream",
     "text": [
      "106\n"
     ]
    }
   ],
   "source": [
    "print(len(txtlist))"
   ]
  },
  {
   "cell_type": "code",
   "execution_count": 10,
   "id": "91e77cf0",
   "metadata": {},
   "outputs": [
    {
     "name": "stdout",
     "output_type": "stream",
     "text": [
      "O‘zbekiston\n",
      "Respublikasi\n",
      "Prezidenti\n",
      "Shavkat\n",
      "Mirziyoyev\n",
      "«Aholining\n",
      "yengil\n",
      "avtotransport\n",
      "vositalariga\n",
      "bo‘lgan\n",
      "ehtiyojini\n",
      "qondirish\n",
      "bo‘yicha\n",
      "qo‘shimcha\n",
      "chora-tadbirlar\n",
      "to‘g‘risida»gi\n",
      "qarorni\n",
      "imzoladi.\n",
      "Bu\n",
      "haqda\n",
      "O‘zA\n",
      "xabar\n",
      "bermoqda.\n",
      "Qozog‘iston\n",
      "prezidenti\n",
      "Qosim-Jo‘mart\n",
      "To‘qayev\n",
      "Yevrosiyo\n",
      "iqtisodiy\n",
      "ittifoqi\n",
      "forumida\n",
      "YeOII\n",
      "tuzilmasi\n",
      "ichida\n",
      "Rossiya\n",
      "va\n",
      "Belarus\n",
      "ittifoq\n",
      "davlati\n",
      "«fenomeni»\n",
      "mavjudligiga\n",
      "e’tibor\n",
      "qaratdi\n",
      "va\n",
      "hamkasblarni\n",
      "mamlakatlar\n",
      "integratsiyasining\n",
      "turli\n",
      "darajalarini\n",
      "muhokama\n",
      "qilishga\n",
      "taklif\n",
      "etdi.\n",
      "«Arsenal»\n",
      "mavsumning\n",
      "finish\n",
      "qismida\n",
      "sekinlashib,\n",
      "yakunda\n",
      "baribir\n",
      "chempionlikka\n",
      "erisha\n",
      "olmaganining\n",
      "asosiy\n",
      "sababi\n",
      "sifatida\n",
      "zaxira\n",
      "o‘rindig‘i\n",
      "keng\n",
      "emasligi\n",
      "keltiriladi.\n",
      "Oltin\n",
      "uchun\n",
      "poygada\n",
      "ustun\n",
      "kelgan\n",
      "«Manchester\n",
      "Siti»da\n",
      "ro‘yxat\n",
      "ancha\n",
      "kengroq\n",
      "—\n",
      "ha,\n",
      "Pep\n",
      "Gvardiola\n",
      "so‘nggi\n",
      "oylarda\n",
      "amalda\n",
      "bitta\n",
      "boshlang‘ich\n",
      "tarkibdan\n",
      "foydalandi,\n",
      "ammo\n",
      "asosiy\n",
      "tarkib\n",
      "futbolchilarini\n",
      "o‘yin\n",
      "sur’atini\n",
      "tushirmasdan\n",
      "zaxiraga\n",
      "olish\n",
      "imkoniyati\n",
      "unda\n",
      "ko‘proq\n",
      "edi.\n"
     ]
    }
   ],
   "source": [
    "for k in range (1,106):\n",
    "    print(txtlist[k])"
   ]
  },
  {
   "cell_type": "code",
   "execution_count": 12,
   "id": "0ebe0edb",
   "metadata": {},
   "outputs": [],
   "source": [
    "with open('dataset2.csv', 'w', newline ='' ) as myfile:\n",
    "    wr = csv.writer(myfile, quoting=csv.QUOTE_ALL)\n",
    "    for word in txtlist:\n",
    "        wr.writerow([word])"
   ]
  },
  {
   "cell_type": "code",
   "execution_count": null,
   "id": "fb75a39e",
   "metadata": {},
   "outputs": [],
   "source": []
  }
 ],
 "metadata": {
  "kernelspec": {
   "display_name": "Python 3 (ipykernel)",
   "language": "python",
   "name": "python3"
  },
  "language_info": {
   "codemirror_mode": {
    "name": "ipython",
    "version": 3
   },
   "file_extension": ".py",
   "mimetype": "text/x-python",
   "name": "python",
   "nbconvert_exporter": "python",
   "pygments_lexer": "ipython3",
   "version": "3.9.13"
  }
 },
 "nbformat": 4,
 "nbformat_minor": 5
}
